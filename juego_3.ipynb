{
 "cells": [
  {
   "cell_type": "code",
   "execution_count": 1,
   "metadata": {},
   "outputs": [],
   "source": [
    "# JUGANDO CON EL PREPROCESAMIENTO, LA TASA DE APRENDIZAJE Y EL NUMERO DE ITERACIONES CON EL MODELO CONSTRUIDO\n",
    "# SE ALTERO EL ALGORITMO DE IMPLEMENTACION POR LA DESVIACION ESTANDAR APLICADA POR NUMPY\n",
    "# SE CAMBIO LOS PARAMETROS INDICADOS (ALPHA E ITERACIONES)\n",
    "# PARA LA NORMALIZACION DE DATOS, SE USO LA DESVIACION ESTANDAR DE NUMPY\n",
    "# SE PROBO CON LO SIGUIENTE:\n",
    "_ALPHA = 0.0003\n",
    "_ITERACIONES = 10000\n",
    "\n"
   ]
  },
  {
   "cell_type": "code",
   "execution_count": 2,
   "metadata": {},
   "outputs": [],
   "source": [
    "import numpy as np\n",
    "import matplotlib.pyplot as plt\n",
    "import h5py\n",
    "import scipy\n",
    "from PIL import Image\n",
    "from scipy import ndimage\n",
    "def load_dataset():\n",
    "    train_dataset = h5py.File('datasets/train_catvnoncat.h5', \"r\")\n",
    "    train_set_x_orig = np.array(train_dataset[\"train_set_x\"][:])\n",
    "    train_set_y_orig = np.array(train_dataset[\"train_set_y\"][:])#---\n",
    "    \n",
    "    test_dataset = h5py.File('datasets/test_catvnoncat.h5', \"r\")\n",
    "    test_set_x_orig = np.array(test_dataset[\"test_set_x\"][:])\n",
    "    test_set_y_orig = np.array(test_dataset[\"test_set_y\"][:])#---\n",
    "    \n",
    "    classes = np.array(test_dataset[\"list_classes\"][:])\n",
    "    train_set_y_orig = train_set_y_orig.reshape((1, train_set_y_orig.shape[0]))\n",
    "    test_set_y_orig = test_set_y_orig.reshape((1, test_set_y_orig.shape[0]))#---\n",
    "    \n",
    "    return train_set_x_orig, train_set_y_orig, test_set_x_orig, test_set_y_orig, classes\n",
    "#-------------------------------------------------------------------------------------------\n",
    "def inicializar_zeros(dimension):\n",
    "    w = np.zeros((dimension, 1),dtype='float')\n",
    "    b = 0\n",
    "    assert(w.shape == (dimension,1))\n",
    "    assert(isinstance(b,float) or isinstance(b,int))\n",
    "    return w ,b\n",
    "#-------------------------------------------------------------------------------------------\n",
    "def sigmoide(self):\n",
    "    return 1 / (1 + np.exp(-self))\n",
    "#-------------------------------------------------------------------------------------------\n",
    "def propagate(w, b, X, Y):\n",
    "    m = X.shape[1]\n",
    "    A = sigmoide(np.dot(w.T, X) + b)\n",
    "    cost = (-1/m)*np.sum((Y*np.log(A)+ (1-Y)*np.log(1-A)), axis = 1)\n",
    "    dw = (1/m)*np.dot(X,(A-Y).T)\n",
    "    db = (1/m)*np.sum(A-Y)\n",
    "    assert(dw.shape == w.shape)\n",
    "    assert(db.dtype == float)\n",
    "    cost = np.squeeze(cost)\n",
    "    assert(cost.shape == ())\n",
    "    grads = {\"dw\": dw, \"db\": db}\n",
    "    return grads, cost\n",
    "#-------------------------------------------------------------------------------------------\n",
    "def optimizar(w, b, X, Y, num_iterations, learning_rate, print_cost = False):\n",
    "    costs = []\n",
    "    for i in range(num_iterations):\n",
    "        grads, cost = propagate(w, b, X, Y)\n",
    "        dw = grads[\"dw\"]\n",
    "        db = grads[\"db\"]\n",
    "        w = w - (learning_rate * dw)\n",
    "        b = b - (learning_rate * db)\n",
    "        if i % 100 == 0:\n",
    "            costs.append(cost)\n",
    "        if print_cost and i % 25000== 0:\n",
    "            print (\"Costo despues de iteracion %i: %f\" %(i, cost))\n",
    "    params = {\"w\": w, \"b\": b}\n",
    "    grads = {\"dw\": dw, \"db\": db}\n",
    "    return params, grads, costs\n",
    "#-------------------------------------------------------------------------------------------\n",
    "def predict(w, b, X):\n",
    "    m = X.shape[1]\n",
    "    Y_prediction = np.zeros((1,m))\n",
    "    w = w.reshape(X.shape[0], 1)\n",
    "    A = sigmoide(np.dot(w.T, X)+b)\n",
    "    for i in range(A.shape[1]):\n",
    "        if (A[0,i] <= 0.5):\n",
    "            Y_prediction[0,i] = 0\n",
    "        else:\n",
    "            Y_prediction[0,i] = 1\n",
    "    assert(Y_prediction.shape == (1, m))\n",
    "    return Y_prediction\n",
    "#-------------------------------------------------------------------------------------------\n",
    "def model(X_train, Y_train, X_test, Y_test, num_iterations = 2000, learning_rate = 0.5, print_cost =False):\n",
    "    w, b = inicializar_zeros(X_train.shape[0])\n",
    "    parameters, grads, costs = optimizar(w, b, X_train, Y_train, num_iterations, learning_rate, print_cost)\n",
    "    w = parameters[\"w\"]\n",
    "    b = parameters[\"b\"]\n",
    "    Y_prediction_test = predict(w, b, X_test)\n",
    "    Y_prediction_train = predict(w, b, X_train)\n",
    "    print(\"train accuracy: {} %\".format(100 - np.mean(np.abs(Y_prediction_train - Y_train)) * 100))\n",
    "    print(\"test accuracy: {} %\".format(100 - np.mean(np.abs(Y_prediction_test - Y_test)) * 100))\n",
    "    d = {\"costs\": costs, \"Y_prediction_test\": Y_prediction_test,\n",
    "    \"Y_prediction_train\" : Y_prediction_train, \"w\" : w, \"b\" : b,\n",
    "    \"learning_rate\" : learning_rate, \"num_iterations\": num_iterations}\n",
    "    return d"
   ]
  },
  {
   "cell_type": "code",
   "execution_count": 3,
   "metadata": {
    "scrolled": false
   },
   "outputs": [
    {
     "name": "stdout",
     "output_type": "stream",
     "text": [
      "-------------------------------------\n",
      "[[0.25326382 2.91998284 1.22162548 ... 2.13039565 0.32775318 0.11918297]\n",
      " [0.46183402 2.86039136 1.05774889 ... 2.30917011 0.35754892 0.41714041]\n",
      " [0.83428081 2.83059561 1.01305527 ... 2.45814882 0.34265105 0.7895872 ]\n",
      " ...\n",
      " [0.         1.22162548 2.05590629 ... 1.26631909 0.05959149 0.        ]\n",
      " [0.         1.19182973 2.1005999  ... 1.59407227 0.07448936 0.        ]\n",
      " [0.         1.2067276  2.11549777 ... 2.21978288 0.         0.        ]]\n",
      "[[0.25326382 2.91998284 1.22162548 ... 2.13039565 0.32775318 0.11918297]\n",
      " [0.46183402 2.86039136 1.05774889 ... 2.30917011 0.35754892 0.41714041]\n",
      " [0.83428081 2.83059561 1.01305527 ... 2.45814882 0.34265105 0.7895872 ]\n",
      " ...\n",
      " [0.         1.22162548 2.05590629 ... 1.26631909 0.05959149 0.        ]\n",
      " [0.         1.19182973 2.1005999  ... 1.59407227 0.07448936 0.        ]\n",
      " [0.         1.2067276  2.11549777 ... 2.21978288 0.         0.        ]]\n"
     ]
    }
   ],
   "source": [
    "train_set_x_orig, train_set_y, test_set_x_orig, test_set_y, classes = load_dataset()\n",
    "train_set_x_orig_flatten = train_set_x_orig.reshape (train_set_x_orig.shape [0], -1).T\n",
    "test_set_x_orig_flatten = test_set_x_orig.reshape (test_set_x_orig.shape [0], -1).T\n",
    "\n",
    "### DESVIACION ESTANDAR PARA train_set_x ###\n",
    "train_set_x_anterior = train_set_x_orig_flatten/255\n",
    "print(\"-------------------------------------\")\n",
    "desviacion_estandar = np.std(train_set_x_orig_flatten, ddof=1)\n",
    "filas = len(train_set_x_orig_flatten)\n",
    "colum = len(train_set_x_orig_flatten[0])\n",
    "train_set_x = np.zeros((filas, colum))\n",
    "for i in range (filas):\n",
    "    train_set_x[i] = np.matrix(train_set_x_orig_flatten[i])/desviacion_estandar\n",
    "print (train_set_x)\n",
    "\n",
    "### DESVIACION STANDAR PARA test_set_x ###\n",
    "test_set_x_anterior = test_set_x_orig_flatten/255\n",
    "desviacion_estandar = np.std(test_set_x_orig_flatten, ddof=1)\n",
    "filas = len(test_set_x_orig_flatten)\n",
    "colum = len(test_set_x_orig_flatten[0])\n",
    "test_set_x = np.zeros((filas, colum))\n",
    "for i in range (filas):\n",
    "    test_set_x[i] = np.matrix(test_set_x_orig_flatten[i])/desviacion_estandar\n",
    "print (train_set_x)"
   ]
  },
  {
   "cell_type": "code",
   "execution_count": 4,
   "metadata": {},
   "outputs": [
    {
     "name": "stdout",
     "output_type": "stream",
     "text": [
      "\n",
      "%%%%%%%%%%%%%%%%%%%%%%%%%%%%%%%%% PARA train_set_x %%%%%%%%%%%%%%%%%%%%%%%%%%\n",
      "\n",
      "\n",
      "division /255\n",
      "\n",
      "[[0.06666667 0.76862745 0.32156863 ... 0.56078431 0.08627451 0.03137255]\n",
      " [0.12156863 0.75294118 0.27843137 ... 0.60784314 0.09411765 0.10980392]\n",
      " [0.21960784 0.74509804 0.26666667 ... 0.64705882 0.09019608 0.20784314]\n",
      " ...\n",
      " [0.         0.32156863 0.54117647 ... 0.33333333 0.01568627 0.        ]\n",
      " [0.         0.31372549 0.55294118 ... 0.41960784 0.01960784 0.        ]\n",
      " [0.         0.31764706 0.55686275 ... 0.58431373 0.         0.        ]]\n",
      "\n",
      "desviacion estandar\n",
      "\n",
      "[[0.25326382 2.91998284 1.22162548 ... 2.13039565 0.32775318 0.11918297]\n",
      " [0.46183402 2.86039136 1.05774889 ... 2.30917011 0.35754892 0.41714041]\n",
      " [0.83428081 2.83059561 1.01305527 ... 2.45814882 0.34265105 0.7895872 ]\n",
      " ...\n",
      " [0.         1.22162548 2.05590629 ... 1.26631909 0.05959149 0.        ]\n",
      " [0.         1.19182973 2.1005999  ... 1.59407227 0.07448936 0.        ]\n",
      " [0.         1.2067276  2.11549777 ... 2.21978288 0.         0.        ]]\n",
      "\n",
      "%%%%%%%%%%%%%%%%%%%%%%%%%%%%%%%%% PARA test_set_x %%%%%%%%%%%%%%%%%%%%%%%%%%\n",
      "\n",
      "\n",
      "division /255\n",
      "\n",
      "[[0.61960784 0.45098039 1.         ... 0.16078431 0.07058824 0.52156863]\n",
      " [0.40784314 0.43137255 0.99215686 ... 0.18431373 0.07058824 0.63921569]\n",
      " [0.3254902  0.43529412 0.99607843 ... 0.32941176 0.0627451  0.29411765]\n",
      " ...\n",
      " [0.67843137 0.67058824 0.52156863 ... 0.71764706 0.56470588 0.01960784]\n",
      " [0.50196078 0.69019608 0.39607843 ... 0.55294118 0.5372549  0.08627451]\n",
      " [0.43137255 0.72941176 0.4745098  ... 0.45490196 0.42352941 0.01960784]]\n",
      "\n",
      "desviacion estandar\n",
      "\n",
      "[[2.25867104 1.64396942 3.64532351 ... 0.58611084 0.25731695 1.90128638]\n",
      " [1.48672018 1.57249249 3.61673273 ... 0.67188316 0.25731695 2.33014797]\n",
      " [1.18651706 1.58678788 3.63102812 ... 1.20081245 0.22872618 1.07215397]\n",
      " ...\n",
      " [2.47310183 2.44451106 1.90128638 ... 2.61605569 2.05853563 0.07147693]\n",
      " [1.82980945 2.51598799 1.44383402 ... 2.01564947 1.95846792 0.3144985 ]\n",
      " [1.57249249 2.65894185 1.72974174 ... 1.65826481 1.54390172 0.07147693]]\n"
     ]
    }
   ],
   "source": [
    "### COMPARACION DESVIACION ESTANDAR --- CON --- LA DIVISION /255\n",
    "print (\"\\n%%%%%%%%%%%%%%%%%%%%%%%%%%%%%%%%% PARA train_set_x %%%%%%%%%%%%%%%%%%%%%%%%%%\\n\")\n",
    "print (\"\\ndivision /255\\n\")\n",
    "print (train_set_x_anterior)\n",
    "print (\"\\ndesviacion estandar\\n\")\n",
    "print (train_set_x)\n",
    "print (\"\\n%%%%%%%%%%%%%%%%%%%%%%%%%%%%%%%%% PARA test_set_x %%%%%%%%%%%%%%%%%%%%%%%%%%\\n\")\n",
    "print (\"\\ndivision /255\\n\")\n",
    "print (test_set_x_anterior)\n",
    "print (\"\\ndesviacion estandar\\n\")\n",
    "print (test_set_x)"
   ]
  },
  {
   "cell_type": "code",
   "execution_count": 5,
   "metadata": {
    "scrolled": false
   },
   "outputs": [
    {
     "name": "stdout",
     "output_type": "stream",
     "text": [
      "Costo despues de iteracion 0: 0.693147\n",
      "train accuracy: 100.0 %\n",
      "test accuracy: 70.0 %\n"
     ]
    }
   ],
   "source": [
    "d = model(train_set_x, train_set_y, test_set_x, test_set_y, _ITERACIONES, _ALPHA ,print_cost = True)"
   ]
  },
  {
   "cell_type": "code",
   "execution_count": 6,
   "metadata": {},
   "outputs": [
    {
     "data": {
      "image/png": "[encoded data removed]",
      "text/plain": [
       "<Figure size 432x288 with 1 Axes>"
      ]
     },
     "metadata": {
      "needs_background": "light"
     },
     "output_type": "display_data"
    }
   ],
   "source": [
    "costs = np.squeeze(d['costs'])\n",
    "plt.plot(costs)\n",
    "plt.ylabel('costo')\n",
    "plt.xlabel('iteraciones (por miles)')\n",
    "plt.title(\"ALPHA =\" + str(d[\"learning_rate\"]))\n",
    "plt.show()"
   ]
  },
  {
   "cell_type": "code",
   "execution_count": 7,
   "metadata": {},
   "outputs": [
    {
     "name": "stdout",
     "output_type": "stream",
     "text": [
      "- >Para una tasa de aprendizaje: 0.01\n"
     ]
    },
    {
     "name": "stderr",
     "output_type": "stream",
     "text": [
      "C:\\Users\\Lenovo\\.conda\\envs\\universidad\\lib\\site-packages\\ipykernel_launcher.py:35: RuntimeWarning: divide by zero encountered in log\n",
      "C:\\Users\\Lenovo\\.conda\\envs\\universidad\\lib\\site-packages\\ipykernel_launcher.py:35: RuntimeWarning: invalid value encountered in multiply\n"
     ]
    },
    {
     "name": "stdout",
     "output_type": "stream",
     "text": [
      "train accuracy: 100.0 %\n",
      "test accuracy: 70.0 %\n",
      "- >Para una tasa de aprendizaje: 0.001\n",
      "train accuracy: 99.52153110047847 %\n",
      "test accuracy: 68.0 %\n",
      "- >Para una tasa de aprendizaje: 0.0003\n",
      "train accuracy: 97.12918660287082 %\n",
      "test accuracy: 70.0 %\n",
      "\n",
      "-------------------------------------------------------\n",
      "\n"
     ]
    },
    {
     "data": {
      "image/png": "[encoded data removed]",
      "text/plain": [
       "<Figure size 432x288 with 1 Axes>"
      ]
     },
     "metadata": {
      "needs_background": "light"
     },
     "output_type": "display_data"
    }
   ],
   "source": [
    "learning_rates = [0.01, 0.001,_ALPHA]\n",
    "models = {}\n",
    "for i in learning_rates:\n",
    "    print (\"- >Para una tasa de aprendizaje: \" + str(i))\n",
    "    models[str(i)] = model(train_set_x, train_set_y, test_set_x, test_set_y, num_iterations = 1500,\n",
    "learning_rate = i, print_cost = False)\n",
    "print ('\\n' + \"-------------------------------------------------------\" + '\\n')\n",
    "for i in learning_rates:\n",
    "    plt.plot(np.squeeze(models[str(i)][\"costs\"]), label= str(models[str(i)][\"learning_rate\"]))\n",
    "plt.ylabel('costo')\n",
    "plt.xlabel('iteraciones (por miles)')\n",
    "legend = plt.legend(loc='upper center', shadow=True)\n",
    "frame = legend.get_frame()\n",
    "frame.set_facecolor('0.90')\n",
    "plt.show()"
   ]
  },
  {
   "cell_type": "code",
   "execution_count": 8,
   "metadata": {},
   "outputs": [
    {
     "name": "stderr",
     "output_type": "stream",
     "text": [
      "C:\\Users\\Lenovo\\.conda\\envs\\universidad\\lib\\site-packages\\ipykernel_launcher.py:4: DeprecationWarning: `imread` is deprecated!\n",
      "`imread` is deprecated in SciPy 1.0.0.\n",
      "Use ``matplotlib.pyplot.imread`` instead.\n",
      "  after removing the cwd from sys.path.\n"
     ]
    },
    {
     "ename": "FileNotFoundError",
     "evalue": "[Errno 2] No such file or directory: 'prueba_gatos/leon1.jpg'",
     "output_type": "error",
     "traceback": [
      "\u001b[1;31m---------------------------------------------------------------------------\u001b[0m",
      "\u001b[1;31mFileNotFoundError\u001b[0m                         Traceback (most recent call last)",
      "\u001b[1;32m<ipython-input-8-8604c48ccf88>\u001b[0m in \u001b[0;36m<module>\u001b[1;34m\u001b[0m\n\u001b[0;32m      2\u001b[0m \u001b[0mmy_image\u001b[0m \u001b[1;33m=\u001b[0m \u001b[1;34m\"leon1.jpg\"\u001b[0m\u001b[1;33m\u001b[0m\u001b[1;33m\u001b[0m\u001b[0m\n\u001b[0;32m      3\u001b[0m \u001b[0mfname\u001b[0m \u001b[1;33m=\u001b[0m \u001b[1;34m\"prueba_gatos/\"\u001b[0m \u001b[1;33m+\u001b[0m \u001b[0mmy_image\u001b[0m\u001b[1;33m\u001b[0m\u001b[1;33m\u001b[0m\u001b[0m\n\u001b[1;32m----> 4\u001b[1;33m \u001b[0mimage\u001b[0m \u001b[1;33m=\u001b[0m \u001b[0mnp\u001b[0m\u001b[1;33m.\u001b[0m\u001b[0marray\u001b[0m\u001b[1;33m(\u001b[0m\u001b[0mndimage\u001b[0m\u001b[1;33m.\u001b[0m\u001b[0mimread\u001b[0m\u001b[1;33m(\u001b[0m\u001b[0mfname\u001b[0m\u001b[1;33m,\u001b[0m \u001b[0mflatten\u001b[0m\u001b[1;33m=\u001b[0m\u001b[1;32mFalse\u001b[0m\u001b[1;33m)\u001b[0m\u001b[1;33m)\u001b[0m\u001b[1;33m\u001b[0m\u001b[1;33m\u001b[0m\u001b[0m\n\u001b[0m\u001b[0;32m      5\u001b[0m \u001b[1;31m#image = np.array(Image.fromarray(fname).resize(), flatten=False)\u001b[0m\u001b[1;33m\u001b[0m\u001b[1;33m\u001b[0m\u001b[1;33m\u001b[0m\u001b[0m\n\u001b[0;32m      6\u001b[0m \u001b[0mnum_px\u001b[0m \u001b[1;33m=\u001b[0m \u001b[0mtrain_set_x_orig\u001b[0m\u001b[1;33m.\u001b[0m\u001b[0mshape\u001b[0m\u001b[1;33m[\u001b[0m\u001b[1;36m2\u001b[0m\u001b[1;33m]\u001b[0m\u001b[1;33m\u001b[0m\u001b[1;33m\u001b[0m\u001b[0m\n",
      "\u001b[1;32m~\\.conda\\envs\\universidad\\lib\\site-packages\\numpy\\lib\\utils.py\u001b[0m in \u001b[0;36mnewfunc\u001b[1;34m(*args, **kwds)\u001b[0m\n\u001b[0;32m     99\u001b[0m             \u001b[1;34m\"\"\"`arrayrange` is deprecated, use `arange` instead!\"\"\"\u001b[0m\u001b[1;33m\u001b[0m\u001b[1;33m\u001b[0m\u001b[0m\n\u001b[0;32m    100\u001b[0m             \u001b[0mwarnings\u001b[0m\u001b[1;33m.\u001b[0m\u001b[0mwarn\u001b[0m\u001b[1;33m(\u001b[0m\u001b[0mdepdoc\u001b[0m\u001b[1;33m,\u001b[0m \u001b[0mDeprecationWarning\u001b[0m\u001b[1;33m,\u001b[0m \u001b[0mstacklevel\u001b[0m\u001b[1;33m=\u001b[0m\u001b[1;36m2\u001b[0m\u001b[1;33m)\u001b[0m\u001b[1;33m\u001b[0m\u001b[1;33m\u001b[0m\u001b[0m\n\u001b[1;32m--> 101\u001b[1;33m             \u001b[1;32mreturn\u001b[0m \u001b[0mfunc\u001b[0m\u001b[1;33m(\u001b[0m\u001b[1;33m*\u001b[0m\u001b[0margs\u001b[0m\u001b[1;33m,\u001b[0m \u001b[1;33m**\u001b[0m\u001b[0mkwds\u001b[0m\u001b[1;33m)\u001b[0m\u001b[1;33m\u001b[0m\u001b[1;33m\u001b[0m\u001b[0m\n\u001b[0m\u001b[0;32m    102\u001b[0m \u001b[1;33m\u001b[0m\u001b[0m\n\u001b[0;32m    103\u001b[0m         \u001b[0mnewfunc\u001b[0m \u001b[1;33m=\u001b[0m \u001b[0m_set_function_name\u001b[0m\u001b[1;33m(\u001b[0m\u001b[0mnewfunc\u001b[0m\u001b[1;33m,\u001b[0m \u001b[0mold_name\u001b[0m\u001b[1;33m)\u001b[0m\u001b[1;33m\u001b[0m\u001b[1;33m\u001b[0m\u001b[0m\n",
      "\u001b[1;32m~\\.conda\\envs\\universidad\\lib\\site-packages\\scipy\\ndimage\\io.py\u001b[0m in \u001b[0;36mimread\u001b[1;34m(fname, flatten, mode)\u001b[0m\n\u001b[0;32m     26\u001b[0m \u001b[1;32mdef\u001b[0m \u001b[0mimread\u001b[0m\u001b[1;33m(\u001b[0m\u001b[0mfname\u001b[0m\u001b[1;33m,\u001b[0m \u001b[0mflatten\u001b[0m\u001b[1;33m=\u001b[0m\u001b[1;32mFalse\u001b[0m\u001b[1;33m,\u001b[0m \u001b[0mmode\u001b[0m\u001b[1;33m=\u001b[0m\u001b[1;32mNone\u001b[0m\u001b[1;33m)\u001b[0m\u001b[1;33m:\u001b[0m\u001b[1;33m\u001b[0m\u001b[1;33m\u001b[0m\u001b[0m\n\u001b[0;32m     27\u001b[0m     \u001b[1;32mif\u001b[0m \u001b[0m_have_pil\u001b[0m\u001b[1;33m:\u001b[0m\u001b[1;33m\u001b[0m\u001b[1;33m\u001b[0m\u001b[0m\n\u001b[1;32m---> 28\u001b[1;33m         \u001b[1;32mreturn\u001b[0m \u001b[0m_imread\u001b[0m\u001b[1;33m(\u001b[0m\u001b[0mfname\u001b[0m\u001b[1;33m,\u001b[0m \u001b[0mflatten\u001b[0m\u001b[1;33m,\u001b[0m \u001b[0mmode\u001b[0m\u001b[1;33m)\u001b[0m\u001b[1;33m\u001b[0m\u001b[1;33m\u001b[0m\u001b[0m\n\u001b[0m\u001b[0;32m     29\u001b[0m     raise ImportError(\"Could not import the Python Imaging Library (PIL)\"\n\u001b[0;32m     30\u001b[0m                       \u001b[1;34m\" required to load image files.  Please refer to\"\u001b[0m\u001b[1;33m\u001b[0m\u001b[1;33m\u001b[0m\u001b[0m\n",
      "\u001b[1;32m~\\.conda\\envs\\universidad\\lib\\site-packages\\numpy\\lib\\utils.py\u001b[0m in \u001b[0;36mnewfunc\u001b[1;34m(*args, **kwds)\u001b[0m\n\u001b[0;32m     99\u001b[0m             \u001b[1;34m\"\"\"`arrayrange` is deprecated, use `arange` instead!\"\"\"\u001b[0m\u001b[1;33m\u001b[0m\u001b[1;33m\u001b[0m\u001b[0m\n\u001b[0;32m    100\u001b[0m             \u001b[0mwarnings\u001b[0m\u001b[1;33m.\u001b[0m\u001b[0mwarn\u001b[0m\u001b[1;33m(\u001b[0m\u001b[0mdepdoc\u001b[0m\u001b[1;33m,\u001b[0m \u001b[0mDeprecationWarning\u001b[0m\u001b[1;33m,\u001b[0m \u001b[0mstacklevel\u001b[0m\u001b[1;33m=\u001b[0m\u001b[1;36m2\u001b[0m\u001b[1;33m)\u001b[0m\u001b[1;33m\u001b[0m\u001b[1;33m\u001b[0m\u001b[0m\n\u001b[1;32m--> 101\u001b[1;33m             \u001b[1;32mreturn\u001b[0m \u001b[0mfunc\u001b[0m\u001b[1;33m(\u001b[0m\u001b[1;33m*\u001b[0m\u001b[0margs\u001b[0m\u001b[1;33m,\u001b[0m \u001b[1;33m**\u001b[0m\u001b[0mkwds\u001b[0m\u001b[1;33m)\u001b[0m\u001b[1;33m\u001b[0m\u001b[1;33m\u001b[0m\u001b[0m\n\u001b[0m\u001b[0;32m    102\u001b[0m \u001b[1;33m\u001b[0m\u001b[0m\n\u001b[0;32m    103\u001b[0m         \u001b[0mnewfunc\u001b[0m \u001b[1;33m=\u001b[0m \u001b[0m_set_function_name\u001b[0m\u001b[1;33m(\u001b[0m\u001b[0mnewfunc\u001b[0m\u001b[1;33m,\u001b[0m \u001b[0mold_name\u001b[0m\u001b[1;33m)\u001b[0m\u001b[1;33m\u001b[0m\u001b[1;33m\u001b[0m\u001b[0m\n",
      "\u001b[1;32m~\\.conda\\envs\\universidad\\lib\\site-packages\\scipy\\misc\\pilutil.py\u001b[0m in \u001b[0;36mimread\u001b[1;34m(name, flatten, mode)\u001b[0m\n\u001b[0;32m    162\u001b[0m     \"\"\"\n\u001b[0;32m    163\u001b[0m \u001b[1;33m\u001b[0m\u001b[0m\n\u001b[1;32m--> 164\u001b[1;33m     \u001b[0mim\u001b[0m \u001b[1;33m=\u001b[0m \u001b[0mImage\u001b[0m\u001b[1;33m.\u001b[0m\u001b[0mopen\u001b[0m\u001b[1;33m(\u001b[0m\u001b[0mname\u001b[0m\u001b[1;33m)\u001b[0m\u001b[1;33m\u001b[0m\u001b[1;33m\u001b[0m\u001b[0m\n\u001b[0m\u001b[0;32m    165\u001b[0m     \u001b[1;32mreturn\u001b[0m \u001b[0mfromimage\u001b[0m\u001b[1;33m(\u001b[0m\u001b[0mim\u001b[0m\u001b[1;33m,\u001b[0m \u001b[0mflatten\u001b[0m\u001b[1;33m=\u001b[0m\u001b[0mflatten\u001b[0m\u001b[1;33m,\u001b[0m \u001b[0mmode\u001b[0m\u001b[1;33m=\u001b[0m\u001b[0mmode\u001b[0m\u001b[1;33m)\u001b[0m\u001b[1;33m\u001b[0m\u001b[1;33m\u001b[0m\u001b[0m\n\u001b[0;32m    166\u001b[0m \u001b[1;33m\u001b[0m\u001b[0m\n",
      "\u001b[1;32m~\\.conda\\envs\\universidad\\lib\\site-packages\\PIL\\Image.py\u001b[0m in \u001b[0;36mopen\u001b[1;34m(fp, mode)\u001b[0m\n\u001b[0;32m   2650\u001b[0m \u001b[1;33m\u001b[0m\u001b[0m\n\u001b[0;32m   2651\u001b[0m     \u001b[1;32mif\u001b[0m \u001b[0mfilename\u001b[0m\u001b[1;33m:\u001b[0m\u001b[1;33m\u001b[0m\u001b[1;33m\u001b[0m\u001b[0m\n\u001b[1;32m-> 2652\u001b[1;33m         \u001b[0mfp\u001b[0m \u001b[1;33m=\u001b[0m \u001b[0mbuiltins\u001b[0m\u001b[1;33m.\u001b[0m\u001b[0mopen\u001b[0m\u001b[1;33m(\u001b[0m\u001b[0mfilename\u001b[0m\u001b[1;33m,\u001b[0m \u001b[1;34m\"rb\"\u001b[0m\u001b[1;33m)\u001b[0m\u001b[1;33m\u001b[0m\u001b[1;33m\u001b[0m\u001b[0m\n\u001b[0m\u001b[0;32m   2653\u001b[0m         \u001b[0mexclusive_fp\u001b[0m \u001b[1;33m=\u001b[0m \u001b[1;32mTrue\u001b[0m\u001b[1;33m\u001b[0m\u001b[1;33m\u001b[0m\u001b[0m\n\u001b[0;32m   2654\u001b[0m \u001b[1;33m\u001b[0m\u001b[0m\n",
      "\u001b[1;31mFileNotFoundError\u001b[0m: [Errno 2] No such file or directory: 'prueba_gatos/leon1.jpg'"
     ]
    }
   ],
   "source": [
    "### probar con tu imagen\n",
    "my_image = \"leon1.jpg\"\n",
    "fname = \"prueba_gatos/\" + my_image\n",
    "image = np.array(ndimage.imread(fname, flatten=False))\n",
    "#image = np.array(Image.fromarray(fname).resize(), flatten=False)\n",
    "num_px = train_set_x_orig.shape[2]\n",
    "my_image = scipy.misc.imresize(image, size=(num_px,num_px)).reshape((1, num_px*num_px*3)).T\n",
    "\n",
    "my_predicted_image = predict(d[\"w\"], d[\"b\"], my_image)\n",
    "plt.imshow(image)\n",
    "print(\"y = \" + str(np.squeeze(my_predicted_image)) + \", prediccion de algoritmo = \\\"\" +\n",
    "classes[int(np.squeeze(my_predicted_image)),].decode(\"utf-8\") + \"\\\" imagen\")"
   ]
  },
  {
   "cell_type": "code",
   "execution_count": null,
   "metadata": {},
   "outputs": [],
   "source": [
    "### probar con tu imagen\n",
    "my_image = \"gatos1.jpg\"\n",
    "fname = \"prueba_gatos/\" + my_image\n",
    "image = np.array(ndimage.imread(fname, flatten=False))\n",
    "#image = np.array(Image.fromarray(fname).resize(), flatten=False)\n",
    "num_px = train_set_x_orig.shape[2]\n",
    "my_image = scipy.misc.imresize(image, size=(num_px,num_px)).reshape((1, num_px*num_px*3)).T\n",
    "\n",
    "my_predicted_image = predict(d[\"w\"], d[\"b\"], my_image)\n",
    "plt.imshow(image)\n",
    "print(\"y = \" + str(np.squeeze(my_predicted_image)) + \", prediccion de algoritmo = \\\"\" +\n",
    "classes[int(np.squeeze(my_predicted_image)),].decode(\"utf-8\") + \"\\\" imagen\")"
   ]
  },
  {
   "cell_type": "code",
   "execution_count": null,
   "metadata": {},
   "outputs": [],
   "source": [
    "### probar con tu imagen\n",
    "my_image = \"gato3.jpg\"\n",
    "fname = \"prueba_gatos/\" + my_image\n",
    "image = np.array(ndimage.imread(fname, flatten=False))\n",
    "#image = np.array(Image.fromarray(fname).resize(), flatten=False)\n",
    "num_px = train_set_x_orig.shape[2]\n",
    "my_image = scipy.misc.imresize(image, size=(num_px,num_px)).reshape((1, num_px*num_px*3)).T\n",
    "\n",
    "my_predicted_image = predict(d[\"w\"], d[\"b\"], my_image)\n",
    "plt.imshow(image)\n",
    "print(\"y = \" + str(np.squeeze(my_predicted_image)) + \", prediccion de algoritmo = \\\"\" +\n",
    "classes[int(np.squeeze(my_predicted_image)),].decode(\"utf-8\") + \"\\\" imagen\")"
   ]
  },
  {
   "cell_type": "code",
   "execution_count": null,
   "metadata": {},
   "outputs": [],
   "source": [
    "### desviacion standar\n",
    "a = ([3,6,9],[12,15,18],[21,24,27])\n",
    "print (a)\n",
    "print (\" ---- ---- ----\")\n",
    "print (np.matrix(a))\n",
    "print (\" ---- ---- ----\")\n",
    "asd = np.std(a, ddof=1)\n",
    "print (\"desviacion estandar\",asd)\n",
    "print (np.matrix(a[0])/3.)"
   ]
  },
  {
   "cell_type": "code",
   "execution_count": null,
   "metadata": {},
   "outputs": [],
   "source": []
  }
 ],
 "metadata": {
  "kernelspec": {
   "display_name": "Python 3",
   "language": "python",
   "name": "python3"
  },
  "language_info": {
   "codemirror_mode": {
    "name": "ipython",
    "version": 3
   },
   "file_extension": ".py",
   "mimetype": "text/x-python",
   "name": "python",
   "nbconvert_exporter": "python",
   "pygments_lexer": "ipython3",
   "version": "3.7.3"
  }
 },
 "nbformat": 4,
 "nbformat_minor": 2
}
